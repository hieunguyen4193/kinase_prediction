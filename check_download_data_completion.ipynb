{
 "cells": [
  {
   "cell_type": "code",
   "execution_count": 42,
   "id": "03535cb3",
   "metadata": {},
   "outputs": [
    {
     "name": "stdout",
     "output_type": "stream",
     "text": [
      "List of missing file: \n",
      "[]\n",
      "saving new manifest file for missing data ...\n"
     ]
    }
   ],
   "source": [
    "import pandas as pd \n",
    "import pathlib \n",
    "import os \n",
    "import warnings\n",
    "warnings.filterwarnings(\"ignore\")\n",
    "\n",
    "raw_data_dir = \"/media/hieunguyen/HD01/kinase_prediction/raw_data\"\n",
    "\n",
    "# data_type = \"proteomics\"\n",
    "data_type = \"bulkRNA\"\n",
    "\n",
    "manifestdir = \"./manifests\"\n",
    "\n",
    "save_missing_dir = os.path.join(manifestdir, f\"{data_type}_missing_files\")\n",
    "os.system(f\"mkdir -p {save_missing_dir}\")\n",
    "\n",
    "if data_type == \"proteomics\":\n",
    "    all_downloaded_files = [item for item in pathlib.Path(os.path.join(raw_data_dir, data_type)).rglob(\"**/*mzML.gz\")]\n",
    "    all_manifests = [item for item in pathlib.Path(os.path.join(manifestdir, data_type)).glob(\"*/*.tsv\")]\n",
    "    manifestdf = pd.DataFrame()\n",
    "    for inputfile in all_manifests:\n",
    "        tmpdf = pd.read_csv(inputfile, sep = \"\\t\")\n",
    "        manifestdf = pd.concat([manifestdf, tmpdf], ignore_index=True)\n",
    "    filename_col = \"File Name\"\n",
    "else:\n",
    "    all_downloaded_files = [item for item in pathlib.Path(os.path.join(raw_data_dir, data_type)).rglob(\"**/*_star_gene_counts.tsv\")]\n",
    "    all_manifests = [item for item in pathlib.Path(os.path.join(manifestdir, data_type)).glob(\"star_gene_counts_only_*.txt\")]\n",
    "    manifestdf = pd.DataFrame()\n",
    "    for inputfile in all_manifests:\n",
    "        tmpdf = pd.read_csv(inputfile, sep = \"\\t\")\n",
    "        manifestdf = pd.concat([manifestdf, tmpdf], ignore_index=True)\n",
    "    filename_col = \"filename\"\n",
    "downloaddf = pd.DataFrame(data = [item.name for item in all_downloaded_files], columns = [\"filename\"])\n",
    "downloaddf[\"path\"] = [str(item) for item in all_downloaded_files]\n",
    "\n",
    "print(\"List of missing file: \")\n",
    "missing_files = [item for item in manifestdf[filename_col].unique() if item not in downloaddf[\"filename\"].values]\n",
    "print(missing_files)\n",
    "\n",
    "print(\"saving new manifest file for missing data ...\")\n",
    "manifestdf[manifestdf[filename_col].isin(missing_files)].to_csv(os.path.join(save_missing_dir, f\"{data_type}_missing_files.tsv\"), sep=\"\\t\", index=False)"
   ]
  },
  {
   "cell_type": "code",
   "execution_count": 43,
   "id": "73a5502a",
   "metadata": {},
   "outputs": [
    {
     "data": {
      "text/plain": [
       "(2733, 2)"
      ]
     },
     "execution_count": 43,
     "metadata": {},
     "output_type": "execute_result"
    }
   ],
   "source": [
    "downloaddf.shape"
   ]
  },
  {
   "cell_type": "code",
   "execution_count": 44,
   "id": "f39a3e2a",
   "metadata": {},
   "outputs": [
    {
     "data": {
      "text/plain": [
       "(2733, 5)"
      ]
     },
     "execution_count": 44,
     "metadata": {},
     "output_type": "execute_result"
    }
   ],
   "source": [
    "manifestdf.shape"
   ]
  }
 ],
 "metadata": {
  "kernelspec": {
   "display_name": "nguyen",
   "language": "python",
   "name": "python3"
  },
  "language_info": {
   "codemirror_mode": {
    "name": "ipython",
    "version": 3
   },
   "file_extension": ".py",
   "mimetype": "text/x-python",
   "name": "python",
   "nbconvert_exporter": "python",
   "pygments_lexer": "ipython3",
   "version": "3.9.12"
  }
 },
 "nbformat": 4,
 "nbformat_minor": 5
}
