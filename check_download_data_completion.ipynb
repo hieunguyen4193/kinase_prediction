{
 "cells": [
  {
   "cell_type": "code",
   "execution_count": 66,
   "id": "03535cb3",
   "metadata": {},
   "outputs": [
    {
     "name": "stdout",
     "output_type": "stream",
     "text": [
      "List of missing file: \n",
      "[]\n",
      "saving new manifest file for missing data ...\n"
     ]
    }
   ],
   "source": [
    "import pandas as pd \n",
    "import pathlib \n",
    "import os \n",
    "import warnings\n",
    "warnings.filterwarnings(\"ignore\")\n",
    "\n",
    "raw_data_dir = \"/media/hieunguyen/HD01/kinase_prediction/raw_data\"\n",
    "\n",
    "# data_type = \"proteomics\"\n",
    "data_type = \"bulkRNA\"\n",
    "\n",
    "manifestdir = \"./manifests\"\n",
    "\n",
    "save_missing_dir = os.path.join(manifestdir, f\"{data_type}_missing_files\")\n",
    "os.system(f\"mkdir -p {save_missing_dir}\")\n",
    "\n",
    "if data_type == \"proteomics\":\n",
    "    all_downloaded_files = [item for item in pathlib.Path(os.path.join(raw_data_dir, data_type)).rglob(\"**/*mzML.gz\")]\n",
    "    all_manifests = [item for item in pathlib.Path(os.path.join(manifestdir, data_type)).glob(\"*/*.tsv\")]\n",
    "    manifestdf = pd.DataFrame()\n",
    "    for inputfile in all_manifests:\n",
    "        tmpdf = pd.read_csv(inputfile, sep = \"\\t\")\n",
    "        manifestdf = pd.concat([manifestdf, tmpdf], ignore_index=True)\n",
    "    filename_col = \"File Name\"\n",
    "else:\n",
    "    all_downloaded_files = [item for item in pathlib.Path(os.path.join(raw_data_dir, data_type)).rglob(\"**/*_star_gene_counts.tsv\")]\n",
    "    all_manifests = [item for item in pathlib.Path(os.path.join(manifestdir, data_type)).glob(\"star_gene_counts_only_*.txt\")]\n",
    "    manifestdf = pd.DataFrame()\n",
    "    for inputfile in all_manifests:\n",
    "        tmpdf = pd.read_csv(inputfile, sep = \"\\t\")\n",
    "        manifestdf = pd.concat([manifestdf, tmpdf], ignore_index=True)\n",
    "    filename_col = \"filename\"\n",
    "downloaddf = pd.DataFrame(data = [item.name for item in all_downloaded_files], columns = [\"filename\"])\n",
    "downloaddf[\"path\"] = [str(item) for item in all_downloaded_files]\n",
    "\n",
    "print(\"List of missing file: \")\n",
    "missing_files = [item for item in manifestdf[filename_col].unique() if item not in downloaddf[\"filename\"].values]\n",
    "print(missing_files)\n",
    "\n",
    "print(\"saving new manifest file for missing data ...\")\n",
    "manifestdf[manifestdf[filename_col].isin(missing_files)].to_csv(os.path.join(save_missing_dir, f\"{data_type}_missing_files.tsv\"), sep=\"\\t\", index=False)\n",
    "\n",
    "downloaddf = downloaddf.merge(manifestdf, right_on = filename_col, left_on = \"filename\")\n",
    "downloaddf[\"dataset\"] = downloaddf[\"path\"].apply(lambda x: [item for item in x.split(\"/\") if \"star_gene_counts\" in str(item) and \".tsv\" not in item][0])"
   ]
  },
  {
   "cell_type": "code",
   "execution_count": 68,
   "id": "f39a3e2a",
   "metadata": {},
   "outputs": [
    {
     "data": {
      "text/plain": [
       "dataset\n",
       "star_gene_counts_only_bulkRNA_phs000892     340\n",
       "star_gene_counts_only_bulkRNA_phs001287    2393\n",
       "Name: filename, dtype: int64"
      ]
     },
     "execution_count": 68,
     "metadata": {},
     "output_type": "execute_result"
    }
   ],
   "source": [
    "downloaddf.groupby(\"dataset\")[\"filename\"].count()"
   ]
  },
  {
   "cell_type": "code",
   "execution_count": 73,
   "id": "3a14ae88",
   "metadata": {},
   "outputs": [
    {
     "data": {
      "text/html": [
       "<div>\n",
       "<style scoped>\n",
       "    .dataframe tbody tr th:only-of-type {\n",
       "        vertical-align: middle;\n",
       "    }\n",
       "\n",
       "    .dataframe tbody tr th {\n",
       "        vertical-align: top;\n",
       "    }\n",
       "\n",
       "    .dataframe thead th {\n",
       "        text-align: right;\n",
       "    }\n",
       "</style>\n",
       "<table border=\"1\" class=\"dataframe\">\n",
       "  <thead>\n",
       "    <tr style=\"text-align: right;\">\n",
       "      <th></th>\n",
       "      <th>filename</th>\n",
       "      <th>path</th>\n",
       "      <th>id</th>\n",
       "      <th>md5</th>\n",
       "      <th>size</th>\n",
       "      <th>state</th>\n",
       "      <th>dataset</th>\n",
       "    </tr>\n",
       "  </thead>\n",
       "  <tbody>\n",
       "  </tbody>\n",
       "</table>\n",
       "</div>"
      ],
      "text/plain": [
       "Empty DataFrame\n",
       "Columns: [filename, path, id, md5, size, state, dataset]\n",
       "Index: []"
      ]
     },
     "execution_count": 73,
     "metadata": {},
     "output_type": "execute_result"
    }
   ],
   "source": [
    "downloaddf[downloaddf[\"id\"] == \"45b99ac4-0859-4a3d-8b1e-ce5590_D2\"]"
   ]
  }
 ],
 "metadata": {
  "kernelspec": {
   "display_name": "nguyen",
   "language": "python",
   "name": "python3"
  },
  "language_info": {
   "codemirror_mode": {
    "name": "ipython",
    "version": 3
   },
   "file_extension": ".py",
   "mimetype": "text/x-python",
   "name": "python",
   "nbconvert_exporter": "python",
   "pygments_lexer": "ipython3",
   "version": "3.9.12"
  }
 },
 "nbformat": 4,
 "nbformat_minor": 5
}
